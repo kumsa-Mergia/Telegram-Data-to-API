{
 "cells": [
  {
   "cell_type": "markdown",
   "id": "5a6bdcb6",
   "metadata": {},
   "source": [
    "# : Imports"
   ]
  },
  {
   "cell_type": "code",
   "execution_count": 1,
   "id": "65d8b9fe",
   "metadata": {},
   "outputs": [],
   "source": [
    "import sys\n",
    "import os\n",
    "import asyncio\n",
    "\n",
    "project_root = os.path.abspath(os.path.join(os.getcwd(), \"../\"))\n",
    "if project_root not in sys.path:\n",
    "    sys.path.append(project_root)\n",
    "\n",
    "from src.telegram_scraper import TelegramScraper"
   ]
  },
  {
   "cell_type": "markdown",
   "id": "c38404b2",
   "metadata": {},
   "source": [
    "\n",
    "# : Define channels"
   ]
  },
  {
   "cell_type": "code",
   "execution_count": 2,
   "id": "48aae58e",
   "metadata": {},
   "outputs": [],
   "source": [
    "channels = [\n",
    "    \"https://t.me/lobelia4cosmetics\",\n",
    "    \"https://t.me/tikvahpharma\",\n",
    "    \"https://t.me/tenamereja\",\n",
    "    \"https://t.me/Thequorachannel\",\n",
    "    \"https://t.me/HakimApps_Guideline\",\n",
    "]"
   ]
  },
  {
   "cell_type": "markdown",
   "id": "ed5561c4",
   "metadata": {},
   "source": [
    "# : Run async code"
   ]
  },
  {
   "cell_type": "code",
   "execution_count": 3,
   "id": "1eb6267a",
   "metadata": {},
   "outputs": [
    {
     "name": "stdout",
     "output_type": "stream",
     "text": [
      "Signed in successfully as Kumsa Mergia; remember to not break the ToS or you will risk an account ban!\n",
      "[✓] lobelia4cosmetics: 300 messages\n",
      "[✓] tikvahpharma: 300 messages\n",
      "[✓] tenamereja: 300 messages\n",
      "[✓] Thequorachannel: 300 messages\n",
      "[✓] HakimApps_Guideline: 300 messages\n"
     ]
    }
   ],
   "source": [
    "async def run_scraper():\n",
    "    scraper = TelegramScraper()\n",
    "    results = await scraper.scrape_multiple(channels, limit=300)\n",
    "    return results\n",
    "\n",
    "results = await run_scraper()"
   ]
  }
 ],
 "metadata": {
  "kernelspec": {
   "display_name": "venv",
   "language": "python",
   "name": "python3"
  },
  "language_info": {
   "codemirror_mode": {
    "name": "ipython",
    "version": 3
   },
   "file_extension": ".py",
   "mimetype": "text/x-python",
   "name": "python",
   "nbconvert_exporter": "python",
   "pygments_lexer": "ipython3",
   "version": "3.12.3"
  }
 },
 "nbformat": 4,
 "nbformat_minor": 5
}
